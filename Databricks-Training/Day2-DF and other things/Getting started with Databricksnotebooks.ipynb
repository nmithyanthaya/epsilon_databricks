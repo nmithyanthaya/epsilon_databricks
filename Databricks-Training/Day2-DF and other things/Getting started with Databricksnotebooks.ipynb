{
 "cells": [
  {
   "cell_type": "code",
   "execution_count": 0,
   "metadata": {
    "application/vnd.databricks.v1+cell": {
     "cellMetadata": {
      "byteLimit": 2048000,
      "rowLimit": 10000
     },
     "inputWidgets": {},
     "nuid": "a830855d-bad1-452e-b3f4-e85821c18957",
     "showTitle": true,
     "tableResultSettingsMap": {},
     "title": "scala cmd switch"
    }
   },
   "outputs": [],
   "source": [
    "%scala\n",
    "println(\"run scala\")"
   ]
  },
  {
   "cell_type": "code",
   "execution_count": 0,
   "metadata": {
    "application/vnd.databricks.v1+cell": {
     "cellMetadata": {
      "byteLimit": 2048000,
      "implicitDf": true,
      "rowLimit": 10000
     },
     "inputWidgets": {},
     "nuid": "0088f722-44ab-4ccb-9705-e30be85f25f1",
     "showTitle": true,
     "tableResultSettingsMap": {},
     "title": "SQL cmd switch"
    }
   },
   "outputs": [],
   "source": [
    "%sql\n",
    "select \"iam sql cmd\""
   ]
  },
  {
   "cell_type": "code",
   "execution_count": 0,
   "metadata": {
    "application/vnd.databricks.v1+cell": {
     "cellMetadata": {
      "byteLimit": 2048000,
      "rowLimit": 10000
     },
     "inputWidgets": {},
     "nuid": "bb37e6c0-1da2-4fe0-b272-07d152889387",
     "showTitle": true,
     "tableResultSettingsMap": {},
     "title": "python cmd"
    }
   },
   "outputs": [],
   "source": [
    "print(\"hello nirmith\")"
   ]
  }
 ],
 "metadata": {
  "application/vnd.databricks.v1+notebook": {
   "computePreferences": null,
   "dashboards": [],
   "environmentMetadata": {
    "base_environment": "",
    "environment_version": "2"
   },
   "inputWidgetPreferences": null,
   "language": "python",
   "notebookMetadata": {
    "mostRecentlyExecutedCommandWithImplicitDF": {
     "commandId": 4917179264953065,
     "dataframes": [
      "_sqldf"
     ]
    },
    "pythonIndentUnit": 4
   },
   "notebookName": "Getting started with Databricksnotebooks",
   "widgets": {}
  },
  "language_info": {
   "name": "python"
  }
 },
 "nbformat": 4,
 "nbformat_minor": 0
}
