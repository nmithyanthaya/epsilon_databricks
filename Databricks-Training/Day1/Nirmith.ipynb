{
 "cells": [
  {
   "cell_type": "code",
   "execution_count": 0,
   "metadata": {
    "application/vnd.databricks.v1+cell": {
     "cellMetadata": {},
     "inputWidgets": {},
     "nuid": "85b8cc1f-df8b-42e7-9209-7658a914e045",
     "showTitle": false,
     "tableResultSettingsMap": {},
     "title": ""
    },
    "colab": {
     "base_uri": "https://localhost:8080/"
    },
    "id": "0aRb0o35HnuZ",
    "outputId": "e96be4b6-b130-4121-b782-d42f4f6a34f2"
   },
   "outputs": [],
   "source": [
    "a=20\n",
    "print(a)\n",
    "print(type(a))\n",
    "print(id(a))"
   ]
  },
  {
   "cell_type": "code",
   "execution_count": 0,
   "metadata": {
    "application/vnd.databricks.v1+cell": {
     "cellMetadata": {},
     "inputWidgets": {},
     "nuid": "828bf03b-8276-4179-8ac3-36b587f1c2c5",
     "showTitle": false,
     "tableResultSettingsMap": {},
     "title": ""
    },
    "colab": {
     "base_uri": "https://localhost:8080/"
    },
    "id": "Ek0IzSeJIrWf",
    "outputId": "b19bb1ed-1c44-4811-96ce-3c61585cccf0"
   },
   "outputs": [],
   "source": [
    "a=30\n",
    "print(a)\n",
    "print(type(a))\n",
    "print(id(a))"
   ]
  },
  {
   "cell_type": "code",
   "execution_count": 0,
   "metadata": {
    "application/vnd.databricks.v1+cell": {
     "cellMetadata": {},
     "inputWidgets": {},
     "nuid": "2ce40466-40a6-49cb-81d8-4af317035a54",
     "showTitle": false,
     "tableResultSettingsMap": {},
     "title": ""
    },
    "colab": {
     "base_uri": "https://localhost:8080/"
    },
    "id": "O7pA5aluJaMt",
    "outputId": "4ce3a607-21a2-49be-c7bf-b4d0bb12cbe9"
   },
   "outputs": [],
   "source": [
    "c=30\n",
    "print(c)\n",
    "print(type(c))\n",
    "print(id(c))"
   ]
  },
  {
   "cell_type": "code",
   "execution_count": 0,
   "metadata": {
    "application/vnd.databricks.v1+cell": {
     "cellMetadata": {},
     "inputWidgets": {},
     "nuid": "a82bea0f-dc71-4934-82c9-f16cfc385a6d",
     "showTitle": false,
     "tableResultSettingsMap": {},
     "title": ""
    },
    "colab": {
     "base_uri": "https://localhost:8080/"
    },
    "id": "cEAFW6_iLdqe",
    "outputId": "25b00a58-c6af-4631-d779-bb783fc7c197"
   },
   "outputs": [],
   "source": [
    "s=\"Databrics indexing exercise\"\n",
    "print(s[-1])\n",
    "print(s[1])\n",
    "print(s[:5])\n",
    "print(s[:6])\n",
    "print(s[11:])"
   ]
  },
  {
   "cell_type": "code",
   "execution_count": 0,
   "metadata": {
    "application/vnd.databricks.v1+cell": {
     "cellMetadata": {},
     "inputWidgets": {},
     "nuid": "bb903bac-4fc2-4e56-a923-02bc99e8d9f0",
     "showTitle": false,
     "tableResultSettingsMap": {},
     "title": ""
    },
    "colab": {
     "base_uri": "https://localhost:8080/"
    },
    "id": "kKCEQEbHNh7b",
    "outputId": "1728fabc-0137-4eb1-e61b-609a299b8e85"
   },
   "outputs": [],
   "source": [
    "s=\"AWS\" + \" \" + \"Databricks\"\n",
    "print(s)"
   ]
  },
  {
   "cell_type": "code",
   "execution_count": 0,
   "metadata": {
    "application/vnd.databricks.v1+cell": {
     "cellMetadata": {},
     "inputWidgets": {},
     "nuid": "2677f5fa-259e-473b-8595-30528fb307ed",
     "showTitle": false,
     "tableResultSettingsMap": {},
     "title": ""
    },
    "colab": {
     "base_uri": "https://localhost:8080/",
     "height": 158
    },
    "id": "2V3m_gUCNmSG",
    "outputId": "a61ab065-84e5-4b06-982f-e1d00bab1846"
   },
   "outputs": [],
   "source": [
    "s=\"AWS\" + 10\n",
    "print(s)"
   ]
  },
  {
   "cell_type": "code",
   "execution_count": 0,
   "metadata": {
    "application/vnd.databricks.v1+cell": {
     "cellMetadata": {},
     "inputWidgets": {},
     "nuid": "f0816e28-1c90-410d-afa4-b80568060560",
     "showTitle": false,
     "tableResultSettingsMap": {},
     "title": ""
    },
    "colab": {
     "base_uri": "https://localhost:8080/",
     "height": 158
    },
    "id": "MIN9CQWiNrqc",
    "outputId": "374a5437-1558-4f53-b6a7-2e9afbb3b690"
   },
   "outputs": [],
   "source": [
    "s=\"AWS\" * \"Databricks\"\n",
    "print(s)"
   ]
  },
  {
   "cell_type": "code",
   "execution_count": 0,
   "metadata": {
    "application/vnd.databricks.v1+cell": {
     "cellMetadata": {},
     "inputWidgets": {},
     "nuid": "110883f1-b73f-4f58-882c-006fed1c1b6e",
     "showTitle": false,
     "tableResultSettingsMap": {},
     "title": ""
    },
    "colab": {
     "base_uri": "https://localhost:8080/"
    },
    "id": "pORpHPAKNv-Y",
    "outputId": "1b53b52c-c1e7-49cf-b4ed-e2a6b7494629"
   },
   "outputs": [],
   "source": [
    "s=3 * \"AWS\"\n",
    "print(s)"
   ]
  },
  {
   "cell_type": "code",
   "execution_count": 0,
   "metadata": {
    "application/vnd.databricks.v1+cell": {
     "cellMetadata": {},
     "inputWidgets": {},
     "nuid": "4454d202-7f59-43e3-b3ff-36cebacf607a",
     "showTitle": false,
     "tableResultSettingsMap": {},
     "title": ""
    },
    "colab": {
     "base_uri": "https://localhost:8080/"
    },
    "id": "2drdfAj6QtPg",
    "outputId": "57297f8b-f98e-4d52-ab79-eec47e2c1e2f"
   },
   "outputs": [],
   "source": [
    "print(int(10.1))\n",
    "print(str(10.1))\n",
    "print(bool(10.1))\n",
    "print(bool(0.0))"
   ]
  },
  {
   "cell_type": "code",
   "execution_count": 0,
   "metadata": {
    "application/vnd.databricks.v1+cell": {
     "cellMetadata": {},
     "inputWidgets": {},
     "nuid": "7d697d17-e01a-4dc9-ba5f-26a8518af09e",
     "showTitle": false,
     "tableResultSettingsMap": {},
     "title": ""
    },
    "colab": {
     "base_uri": "https://localhost:8080/"
    },
    "id": "DQFpTUh3Q5tJ",
    "outputId": "da6558d0-001d-486a-a03e-c4bf721306d0"
   },
   "outputs": [],
   "source": [
    "print(int(\"10\"))\n",
    "#print(int(\"python\")) # Error\n",
    "#print(float(\"python\")) #Error\n",
    "print(bool(\"python\"))\n",
    "print(bool(\"\"))"
   ]
  },
  {
   "cell_type": "markdown",
   "metadata": {
    "application/vnd.databricks.v1+cell": {
     "cellMetadata": {},
     "inputWidgets": {},
     "nuid": "efd5ffda-8416-4504-b21a-d6c20673a3a4",
     "showTitle": false,
     "tableResultSettingsMap": {},
     "title": ""
    },
    "id": "NtRnIVBqU9yZ"
   },
   "source": []
  },
  {
   "cell_type": "markdown",
   "metadata": {
    "application/vnd.databricks.v1+cell": {
     "cellMetadata": {},
     "inputWidgets": {},
     "nuid": "5182eafb-b1c3-4d7d-ab63-cd1ee918e192",
     "showTitle": false,
     "tableResultSettingsMap": {},
     "title": ""
    },
    "id": "xfCyxFzFRRLK"
   },
   "source": [
    "# Data Type Advance\n",
    "\n",
    "1. List\n",
    "2. Tuple\n",
    "3. Set\n",
    "4. Dict\n",
    "5. Range\n",
    "\n"
   ]
  },
  {
   "cell_type": "markdown",
   "metadata": {
    "application/vnd.databricks.v1+cell": {
     "cellMetadata": {},
     "inputWidgets": {},
     "nuid": "9e4e01ea-4bb8-488c-b2d8-d95800d48de4",
     "showTitle": false,
     "tableResultSettingsMap": {},
     "title": ""
    },
    "id": "e3ZNUdp8SZ_x"
   },
   "source": [
    "# List\n",
    "\n",
    "1. []\n",
    "2. Heterogenous object allowed\n",
    "3. Duplicates are allowed\n",
    "4. Order is presereved\n",
    "5. Indexing and slicing\n",
    "6. Mutable\n",
    "\n"
   ]
  },
  {
   "cell_type": "code",
   "execution_count": 0,
   "metadata": {
    "application/vnd.databricks.v1+cell": {
     "cellMetadata": {},
     "inputWidgets": {},
     "nuid": "322bf45b-bdad-4d7b-82a4-8add339a05e7",
     "showTitle": false,
     "tableResultSettingsMap": {},
     "title": ""
    },
    "id": "V3fY8d-UU_Ex"
   },
   "outputs": [],
   "source": [
    "l=[10,20,'SQL','AWS','AWS',True, False,99.99,10]"
   ]
  },
  {
   "cell_type": "code",
   "execution_count": 0,
   "metadata": {
    "application/vnd.databricks.v1+cell": {
     "cellMetadata": {},
     "inputWidgets": {},
     "nuid": "6e0a7d54-8835-4eb5-bddd-a2955867c0ae",
     "showTitle": false,
     "tableResultSettingsMap": {},
     "title": ""
    },
    "colab": {
     "base_uri": "https://localhost:8080/"
    },
    "id": "44POIjv5VDG3",
    "outputId": "d6fa9162-8ebd-4e81-9e0b-b3a15a819227"
   },
   "outputs": [],
   "source": [
    "print(l)\n",
    "print(id(l))\n",
    "print(type(l))\n",
    "l.append(55)\n",
    "print(l)\n",
    "print(id(l))"
   ]
  },
  {
   "cell_type": "code",
   "execution_count": 0,
   "metadata": {
    "application/vnd.databricks.v1+cell": {
     "cellMetadata": {},
     "inputWidgets": {},
     "nuid": "ed542218-e080-498c-93e2-79d6d199b03f",
     "showTitle": false,
     "tableResultSettingsMap": {},
     "title": ""
    },
    "colab": {
     "base_uri": "https://localhost:8080/"
    },
    "id": "flUYM9E9VKSO",
    "outputId": "0f3979c7-da23-4966-acb4-1ab30f9b47aa"
   },
   "outputs": [],
   "source": [
    "l=[1,2,3,'a','b']\n",
    "print(l)\n",
    "print(id(l))"
   ]
  },
  {
   "cell_type": "code",
   "execution_count": 0,
   "metadata": {
    "application/vnd.databricks.v1+cell": {
     "cellMetadata": {},
     "inputWidgets": {},
     "nuid": "adfd2da0-a68a-4f86-8b42-66b22f5ebc79",
     "showTitle": false,
     "tableResultSettingsMap": {},
     "title": ""
    },
    "colab": {
     "base_uri": "https://localhost:8080/",
     "height": 35
    },
    "id": "RybM8xoAVSpi",
    "outputId": "c32f4fb6-99a5-4203-9170-bfb4b148eeec"
   },
   "outputs": [],
   "source": [
    "l[4]"
   ]
  },
  {
   "cell_type": "code",
   "execution_count": 0,
   "metadata": {
    "application/vnd.databricks.v1+cell": {
     "cellMetadata": {},
     "inputWidgets": {},
     "nuid": "3128819c-81eb-4eee-bf54-45f33058ace5",
     "showTitle": false,
     "tableResultSettingsMap": {},
     "title": ""
    },
    "id": "iaHwnAxdaTcF"
   },
   "outputs": [],
   "source": []
  },
  {
   "cell_type": "markdown",
   "metadata": {
    "application/vnd.databricks.v1+cell": {
     "cellMetadata": {},
     "inputWidgets": {},
     "nuid": "dd85cdb7-3221-4e13-a242-fd14c083cac5",
     "showTitle": false,
     "tableResultSettingsMap": {},
     "title": ""
    },
    "id": "OhOWHmgwabkh"
   },
   "source": [
    "Tuple\n",
    "Excatly same as list except that it is immutable\n",
    "Read only version of list is tuple\n",
    "()"
   ]
  },
  {
   "cell_type": "code",
   "execution_count": 0,
   "metadata": {
    "application/vnd.databricks.v1+cell": {
     "cellMetadata": {},
     "inputWidgets": {},
     "nuid": "1b7c0658-703f-4f97-a518-812c59c9a98b",
     "showTitle": false,
     "tableResultSettingsMap": {},
     "title": ""
    },
    "id": "s10U70oFaf58"
   },
   "outputs": [],
   "source": [
    "t=(10,10,'a',True,'Naval')"
   ]
  },
  {
   "cell_type": "code",
   "execution_count": 0,
   "metadata": {
    "application/vnd.databricks.v1+cell": {
     "cellMetadata": {},
     "inputWidgets": {},
     "nuid": "2e84918b-0cae-4ad7-beab-df0fa46a12a0",
     "showTitle": false,
     "tableResultSettingsMap": {},
     "title": ""
    },
    "colab": {
     "base_uri": "https://localhost:8080/",
     "height": 35
    },
    "id": "Rk0gBQZfajXs",
    "outputId": "8b783284-47cc-4640-805e-877782feaa05"
   },
   "outputs": [],
   "source": [
    "t[-1]"
   ]
  },
  {
   "cell_type": "code",
   "execution_count": 0,
   "metadata": {
    "application/vnd.databricks.v1+cell": {
     "cellMetadata": {},
     "inputWidgets": {},
     "nuid": "54a4d8b0-9155-415e-8bca-a6f5273970fb",
     "showTitle": false,
     "tableResultSettingsMap": {},
     "title": ""
    },
    "colab": {
     "base_uri": "https://localhost:8080/",
     "height": 141
    },
    "id": "qRtjwYtkal-l",
    "outputId": "b1944f99-1fe9-4e43-acff-accc01dfc8d0"
   },
   "outputs": [],
   "source": [
    "t.append(99)"
   ]
  },
  {
   "cell_type": "markdown",
   "metadata": {
    "application/vnd.databricks.v1+cell": {
     "cellMetadata": {},
     "inputWidgets": {},
     "nuid": "fd01d177-ae07-4e6b-b347-79b745ee0520",
     "showTitle": false,
     "tableResultSettingsMap": {},
     "title": ""
    },
    "id": "N0Df5rR6aoVB"
   },
   "source": [
    "#set\n",
    "\n",
    "{}\n",
    "Hetergenous objects are allowed\n",
    "Duplicates are not allowed\n",
    "Order is NOT preserved\n",
    "Indexing and slicing NOT support\n",
    "Mutable\n",
    "\n"
   ]
  },
  {
   "cell_type": "code",
   "execution_count": 0,
   "metadata": {
    "application/vnd.databricks.v1+cell": {
     "cellMetadata": {},
     "inputWidgets": {},
     "nuid": "0b805702-7e1b-48cd-94af-e8d462079565",
     "showTitle": false,
     "tableResultSettingsMap": {},
     "title": ""
    },
    "colab": {
     "base_uri": "https://localhost:8080/"
    },
    "id": "_ehCLCf3ap1R",
    "outputId": "e0be0b2e-de88-41e7-bd1a-881677403dc9"
   },
   "outputs": [],
   "source": [
    "s={10,10,20,30,30,'A',True,'A','Python',20}\n",
    "print(s)"
   ]
  },
  {
   "cell_type": "markdown",
   "metadata": {
    "application/vnd.databricks.v1+cell": {
     "cellMetadata": {},
     "inputWidgets": {},
     "nuid": "b694270a-2836-49d7-bbf0-474d9788f2b6",
     "showTitle": false,
     "tableResultSettingsMap": {},
     "title": ""
    },
    "id": "bTJZ_RzFa1E5"
   },
   "source": []
  },
  {
   "cell_type": "code",
   "execution_count": 0,
   "metadata": {
    "application/vnd.databricks.v1+cell": {
     "cellMetadata": {},
     "inputWidgets": {},
     "nuid": "baada3f9-bce5-4650-8d60-e34210b7a0f1",
     "showTitle": false,
     "tableResultSettingsMap": {},
     "title": ""
    },
    "colab": {
     "base_uri": "https://localhost:8080/",
     "height": 141
    },
    "id": "rSD-V08Ja1Yx",
    "outputId": "0fcf357f-46d4-4e5e-dd67-a7b173968dca"
   },
   "outputs": [],
   "source": [
    "s[1]"
   ]
  },
  {
   "cell_type": "code",
   "execution_count": 0,
   "metadata": {
    "application/vnd.databricks.v1+cell": {
     "cellMetadata": {},
     "inputWidgets": {},
     "nuid": "eca2088e-f195-45a1-87b6-92da888c1e69",
     "showTitle": false,
     "tableResultSettingsMap": {},
     "title": ""
    },
    "id": "nlGwRUSFbFFT"
   },
   "outputs": [],
   "source": [
    "s.add(99)"
   ]
  },
  {
   "cell_type": "code",
   "execution_count": 0,
   "metadata": {
    "application/vnd.databricks.v1+cell": {
     "cellMetadata": {},
     "inputWidgets": {},
     "nuid": "64e553be-bfaa-4e93-9bcf-5e850bd7c867",
     "showTitle": false,
     "tableResultSettingsMap": {},
     "title": ""
    },
    "colab": {
     "base_uri": "https://localhost:8080/"
    },
    "id": "643Ba740bHMb",
    "outputId": "da480ff4-3b0c-4346-e2c5-bf4fc5ccaf91"
   },
   "outputs": [],
   "source": [
    "print(s)"
   ]
  },
  {
   "cell_type": "markdown",
   "metadata": {
    "application/vnd.databricks.v1+cell": {
     "cellMetadata": {},
     "inputWidgets": {},
     "nuid": "121a40e2-4a0f-41c5-a9d7-502df29b22b8",
     "showTitle": false,
     "tableResultSettingsMap": {},
     "title": ""
    },
    "id": "4V616pEUbKcx"
   },
   "source": [
    "Dict\n",
    "{k:v}\n",
    "Duplicate keys are NOT allowed\n",
    "Duplicate values are allowed\n",
    "Heterogenous are allowed\n",
    "Mutable"
   ]
  },
  {
   "cell_type": "code",
   "execution_count": 0,
   "metadata": {
    "application/vnd.databricks.v1+cell": {
     "cellMetadata": {},
     "inputWidgets": {},
     "nuid": "ce443d00-cbff-4a45-b17c-f48c60fca258",
     "showTitle": false,
     "tableResultSettingsMap": {},
     "title": ""
    },
    "id": "HSHWUJBhbLTu"
   },
   "outputs": [],
   "source": [
    "d={1:'Naval',2:\"Ramakrishna\",3:\"Jaya\",4:\"Praveen\",5:\"Praveen\",6:True,7:100.0,\"a\":\"b\"}"
   ]
  },
  {
   "cell_type": "code",
   "execution_count": 0,
   "metadata": {
    "application/vnd.databricks.v1+cell": {
     "cellMetadata": {},
     "inputWidgets": {},
     "nuid": "d85c728d-7941-4d2f-b26b-f51fef2b1cf9",
     "showTitle": false,
     "tableResultSettingsMap": {},
     "title": ""
    },
    "colab": {
     "base_uri": "https://localhost:8080/"
    },
    "id": "O_ACuJeoap7V",
    "outputId": "b8eaa0b6-08e3-4da1-a935-8cbd23a314b7"
   },
   "outputs": [],
   "source": [
    "print(d)"
   ]
  },
  {
   "cell_type": "code",
   "execution_count": 0,
   "metadata": {
    "application/vnd.databricks.v1+cell": {
     "cellMetadata": {},
     "inputWidgets": {},
     "nuid": "d1457ac4-6e72-4054-9d08-09b86f0d2ba3",
     "showTitle": false,
     "tableResultSettingsMap": {},
     "title": ""
    },
    "id": "7TXjt8P9bZ7f"
   },
   "outputs": [],
   "source": [
    "d[5]='Mohan'"
   ]
  },
  {
   "cell_type": "code",
   "execution_count": 0,
   "metadata": {
    "application/vnd.databricks.v1+cell": {
     "cellMetadata": {},
     "inputWidgets": {},
     "nuid": "9e437b38-ed73-4b69-8ce5-26ce8c011629",
     "showTitle": false,
     "tableResultSettingsMap": {},
     "title": ""
    },
    "colab": {
     "base_uri": "https://localhost:8080/"
    },
    "id": "Ug5WR7AbbflV",
    "outputId": "5cc12321-a3b1-4288-8158-e53df39b68a7"
   },
   "outputs": [],
   "source": [
    "print(d)"
   ]
  },
  {
   "cell_type": "code",
   "execution_count": 0,
   "metadata": {
    "application/vnd.databricks.v1+cell": {
     "cellMetadata": {},
     "inputWidgets": {},
     "nuid": "d81d7702-9522-4fee-868b-222bc11e0b3a",
     "showTitle": false,
     "tableResultSettingsMap": {},
     "title": ""
    },
    "id": "ZJACg9ANgS0y"
   },
   "outputs": [],
   "source": [
    "Range: sequence of Number"
   ]
  },
  {
   "cell_type": "markdown",
   "metadata": {
    "application/vnd.databricks.v1+cell": {
     "cellMetadata": {},
     "inputWidgets": {},
     "nuid": "33e0d9ff-53e9-4d4e-897a-3d249563869c",
     "showTitle": false,
     "tableResultSettingsMap": {},
     "title": ""
    },
    "id": "w6fpQocFgTo-"
   },
   "source": []
  },
  {
   "cell_type": "code",
   "execution_count": 0,
   "metadata": {
    "application/vnd.databricks.v1+cell": {
     "cellMetadata": {},
     "inputWidgets": {},
     "nuid": "3af5e88d-12fe-4f8d-baca-bb4605409452",
     "showTitle": false,
     "tableResultSettingsMap": {},
     "title": ""
    },
    "colab": {
     "base_uri": "https://localhost:8080/"
    },
    "id": "81BXvivagWh8",
    "outputId": "016a46c4-6d4d-43bc-c0e4-24150df3a453"
   },
   "outputs": [],
   "source": [
    "range(10)"
   ]
  },
  {
   "cell_type": "code",
   "execution_count": 0,
   "metadata": {
    "application/vnd.databricks.v1+cell": {
     "cellMetadata": {},
     "inputWidgets": {},
     "nuid": "5484ab99-8337-4a52-bb31-5b50353796bc",
     "showTitle": false,
     "tableResultSettingsMap": {},
     "title": ""
    },
    "colab": {
     "base_uri": "https://localhost:8080/"
    },
    "id": "y2gYld2ugZ0s",
    "outputId": "6b191d82-d0de-4923-d76c-5575668e2266"
   },
   "outputs": [],
   "source": [
    "for i in range(10):\n",
    "  print(i)"
   ]
  },
  {
   "cell_type": "code",
   "execution_count": 0,
   "metadata": {
    "application/vnd.databricks.v1+cell": {
     "cellMetadata": {},
     "inputWidgets": {},
     "nuid": "431ccf97-c2a0-4dea-8c7e-9df9b4eb0f74",
     "showTitle": false,
     "tableResultSettingsMap": {},
     "title": ""
    },
    "colab": {
     "base_uri": "https://localhost:8080/"
    },
    "id": "GR5KmH0JgcaW",
    "outputId": "5e2069cf-9d90-4d05-9c15-1b01502e5ce6"
   },
   "outputs": [],
   "source": [
    "for i in range(5,10):\n",
    "  print(i)"
   ]
  },
  {
   "cell_type": "code",
   "execution_count": 0,
   "metadata": {
    "application/vnd.databricks.v1+cell": {
     "cellMetadata": {},
     "inputWidgets": {},
     "nuid": "23c3773b-8105-450d-a0c2-28937417406c",
     "showTitle": false,
     "tableResultSettingsMap": {},
     "title": ""
    },
    "colab": {
     "base_uri": "https://localhost:8080/"
    },
    "id": "AqQYXPOXgiQL",
    "outputId": "5ae85958-3983-4c87-ee01-bfbbbd3f0c8a"
   },
   "outputs": [],
   "source": [
    "for i in range(3,33,3):\n",
    "  print(i)"
   ]
  },
  {
   "cell_type": "code",
   "execution_count": 0,
   "metadata": {
    "application/vnd.databricks.v1+cell": {
     "cellMetadata": {},
     "inputWidgets": {},
     "nuid": "b238c4c4-a622-4784-84a7-5b1b0395e00d",
     "showTitle": false,
     "tableResultSettingsMap": {},
     "title": ""
    },
    "colab": {
     "base_uri": "https://localhost:8080/"
    },
    "id": "BXaRfqxGgpHN",
    "outputId": "41f3881a-f33f-4626-aa60-f96387403480"
   },
   "outputs": [],
   "source": [
    "for i in range(50,1,-5):\n",
    "  print(i)"
   ]
  },
  {
   "cell_type": "code",
   "execution_count": 0,
   "metadata": {
    "application/vnd.databricks.v1+cell": {
     "cellMetadata": {},
     "inputWidgets": {},
     "nuid": "1dc2748c-5f05-4546-b966-db82e752cfac",
     "showTitle": false,
     "tableResultSettingsMap": {},
     "title": ""
    },
    "colab": {
     "base_uri": "https://localhost:8080/",
     "height": 158
    },
    "id": "02hoHG8qgsUv",
    "outputId": "2b902637-a014-4157-a5ce-7104ff26f88d"
   },
   "outputs": [],
   "source": [
    "for i in range(0.3,0):\n",
    "  print(i)"
   ]
  }
 ],
 "metadata": {
  "application/vnd.databricks.v1+notebook": {
   "computePreferences": null,
   "dashboards": [],
   "environmentMetadata": null,
   "inputWidgetPreferences": null,
   "language": "python",
   "notebookMetadata": {
    "pythonIndentUnit": 4
   },
   "notebookName": "Nirmith",
   "widgets": {}
  },
  "colab": {
   "provenance": [],
   "toc_visible": true
  },
  "kernelspec": {
   "display_name": "Python 3",
   "name": "python3"
  },
  "language_info": {
   "name": "python"
  }
 },
 "nbformat": 4,
 "nbformat_minor": 0
}
