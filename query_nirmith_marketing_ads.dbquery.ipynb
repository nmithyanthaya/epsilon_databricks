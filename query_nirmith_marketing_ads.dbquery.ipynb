{
 "cells": [
  {
   "cell_type": "code",
   "execution_count": 0,
   "metadata": {
    "application/vnd.databricks.v1+cell": {
     "cellMetadata": {
      "byteLimit": 10485760,
      "rowLimit": 1000
     },
     "inputWidgets": {},
     "nuid": "13711e1a-b385-4a40-ba58-0623e98e5ca6",
     "showTitle": false,
     "tableResultSettingsMap": {},
     "title": ""
    }
   },
   "outputs": [],
   "source": [
    "use catalog auto;\n",
    "use nirmith;\n",
    "create table if not exists auto_marketing_ad_clicks as\n",
    "select * from read_files('s3://jpmctraining/input/auto_marketing_ad_clicks.csv',format=>\"csv\");\n",
    "\n",
    "describe extended auto_marketing_ad_clicks;\n",
    "describe history auto_marketing_ad_clicks;\n",
    "\n",
    "select * from auto_marketing_ad_clicks limit 2;\n",
    "\n",
    "\n",
    "--create table if not exists auto_marketing_ad_clicks as\n",
    "select * from read_files('s3://jpmctraining/input/auto_marketing_ad_clicks.csv',format=>\"csv\")\n",
    "\n",
    "\n",
    "select * from auto.nirmith.auto_marketing_ad_clicks where user_id=:users\n",
    "\n",
    "\n",
    "auto_marketing_ad_clicks.csv\n",
    "auto_marketing_bookings.csv\n",
    "auto_marketing_campaigns.csv\n",
    "auto_marketing_leads.csv\n",
    "auto_marketing_users.csv\n"
   ]
  }
 ],
 "metadata": {
  "application/vnd.databricks.v1+notebook": {
   "computePreferences": null,
   "dashboards": [],
   "environmentMetadata": null,
   "inputWidgetPreferences": null,
   "language": "sql",
   "notebookMetadata": {
    "pythonIndentUnit": 4,
    "sqlQueryOptions": {
     "applyAutoLimit": true,
     "catalog": "workspace",
     "schema": "default"
    }
   },
   "notebookName": "query_nirmith_marketing_ads.dbquery.ipynb",
   "widgets": {
    "users": {
     "currentValue": "U124",
     "nuid": "f67632ee-9716-4885-a812-75753d62f7c9",
     "typedWidgetInfo": {
      "autoCreated": true,
      "defaultValue": "",
      "label": null,
      "name": "users",
      "options": {
       "widgetDisplayType": "Text",
       "validationRegex": null
      },
      "parameterDataType": "String"
     },
     "widgetInfo": {
      "widgetType": "text",
      "defaultValue": "",
      "label": null,
      "name": "users",
      "options": {
       "widgetType": "text",
       "autoCreated": true,
       "validationRegex": null
      }
     }
    }
   }
  },
  "language_info": {
   "name": "sql"
  }
 },
 "nbformat": 4,
 "nbformat_minor": 0
}
